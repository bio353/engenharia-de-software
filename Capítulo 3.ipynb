{
 "cells": [
  {
   "cell_type": "markdown",
   "metadata": {},
   "source": [
    "# Capítulo 3 - Coleções\n"
   ]
  },
  {
   "cell_type": "markdown",
   "metadata": {},
   "source": [
    "---\n"
   ]
  },
  {
   "cell_type": "markdown",
   "metadata": {},
   "source": [
    "### Exercícios Propostos\n"
   ]
  },
  {
   "cell_type": "markdown",
   "metadata": {},
   "source": [
    "##### 1. Crie uma lista preenchida com os 5 primeiros colocados no Campeonato Mundial de Futebol, na ordem de colocação. Depois mostre:\n",
    "\n",
    "1. Apenas os 3 primeiros colocados;\n",
    "2. Os últimos 2 colocados;\n",
    "3. Uma lista com os times em ordem alfabética;\n",
    "4. Em que posição da tabela está o Barcelona.\n"
   ]
  },
  {
   "cell_type": "code",
   "execution_count": 1,
   "metadata": {},
   "outputs": [],
   "source": [
    "# Função auxiliar\n",
    "from numpy import copy\n"
   ]
  },
  {
   "cell_type": "code",
   "execution_count": 2,
   "metadata": {},
   "outputs": [],
   "source": [
    "# Criar lista\n",
    "colocados = ['Curíntia', 'Barcelona', 'Vasco', 'Parmeira', 'Mengão']\n"
   ]
  },
  {
   "cell_type": "code",
   "execution_count": 3,
   "metadata": {},
   "outputs": [
    {
     "name": "stdout",
     "output_type": "stream",
     "text": [
      "['Curíntia', 'Barcelona', 'Vasco']\n"
     ]
    }
   ],
   "source": [
    "# Mostrar os 3 primeiros colocados\n",
    "print(colocados[:3])\n"
   ]
  },
  {
   "cell_type": "code",
   "execution_count": 4,
   "metadata": {},
   "outputs": [
    {
     "name": "stdout",
     "output_type": "stream",
     "text": [
      "['Parmeira', 'Mengão']\n"
     ]
    }
   ],
   "source": [
    "# Mostrar os 2 últimos colocados\n",
    "print(colocados[-2:])\n"
   ]
  },
  {
   "cell_type": "code",
   "execution_count": 5,
   "metadata": {},
   "outputs": [
    {
     "name": "stdout",
     "output_type": "stream",
     "text": [
      "['Barcelona' 'Curíntia' 'Mengão' 'Parmeira' 'Vasco']\n"
     ]
    }
   ],
   "source": [
    "# Mostrar uma lista com os times em ordem alfabética\n",
    "ordem_alfabetica = copy(colocados)\n",
    "ordem_alfabetica.sort()\n",
    "print(ordem_alfabetica)\n"
   ]
  },
  {
   "cell_type": "code",
   "execution_count": 6,
   "metadata": {},
   "outputs": [
    {
     "name": "stdout",
     "output_type": "stream",
     "text": [
      "Barcelona está em 2.º lugar.\n"
     ]
    }
   ],
   "source": [
    "# Mostrar em que posição está o Barcelona\n",
    "print(f\"Barcelona está em {colocados.index('Barcelona') + 1}.º lugar.\")\n"
   ]
  },
  {
   "cell_type": "markdown",
   "metadata": {},
   "source": [
    "##### 2. Crie dois conjuntos, um para cada loja. Identique quais modelos de smartphones cada uma delas vende. Em seguida, mostre quantos modelos no total você terá opção de comprar se visitá-las e quais modelos encontram-se disponíveis em ambas as lojas.\n"
   ]
  },
  {
   "cell_type": "code",
   "execution_count": 7,
   "metadata": {},
   "outputs": [],
   "source": [
    "# Criar os conjuntos\n",
    "loja_1 = {'Motorola Moto G7 Power', 'Apple iPhone 8', 'Xiaomi Redmi Note 9'}\n",
    "loja_2 = {'Xiaomi Redmi Note 9'}\n"
   ]
  },
  {
   "cell_type": "code",
   "execution_count": 8,
   "metadata": {},
   "outputs": [
    {
     "name": "stdout",
     "output_type": "stream",
     "text": [
      "Na loja 1, há 3 modelos à venda.\n",
      "Na loja 2, há 1 modelos à venda.\n"
     ]
    }
   ],
   "source": [
    "# Mostrar quantos modelos no total há opção de compra\n",
    "print(f\"Na loja 1, há {len(loja_1)} modelos à venda.\")\n",
    "print(f\"Na loja 2, há {len(loja_2)} modelos à venda.\")\n"
   ]
  },
  {
   "cell_type": "code",
   "execution_count": 9,
   "metadata": {},
   "outputs": [
    {
     "name": "stdout",
     "output_type": "stream",
     "text": [
      "{'Xiaomi Redmi Note 9'}\n"
     ]
    }
   ],
   "source": [
    "# Mostrar quais modelos encontram-se disponíveis em ambas as lojas\n",
    "print(loja_1.intersection(loja_2))\n"
   ]
  },
  {
   "cell_type": "markdown",
   "metadata": {},
   "source": [
    "##### 3. Faça um programa que leia o nome e a média de um aluno e guarde-os em um dicionário. Em seguida, a partir da média, gere a situação final do aluno, `'AP'` (aprovado se `média >= 60`) ou `'RP'` (reprovado; se `média < 60`) e também a guarde no dicionário. No final, mostre o conteúdo do dicionário.\n"
   ]
  },
  {
   "cell_type": "code",
   "execution_count": 10,
   "metadata": {},
   "outputs": [],
   "source": [
    "# Função auxiliar\n",
    "from pprint import pprint as pp\n"
   ]
  },
  {
   "cell_type": "code",
   "execution_count": 11,
   "metadata": {},
   "outputs": [],
   "source": [
    "# Criar dicionário\n",
    "aluno = {\n",
    "    'média': float(input(\"Entre c/ a média do aluno: \"))\n",
    "}\n"
   ]
  },
  {
   "cell_type": "code",
   "execution_count": 12,
   "metadata": {},
   "outputs": [],
   "source": [
    "# Gerar situação final do aluno\n",
    "aluno['situação final'] = 'AP' if aluno['média'] >= 60 else 'RP'\n"
   ]
  },
  {
   "cell_type": "code",
   "execution_count": 13,
   "metadata": {},
   "outputs": [
    {
     "name": "stdout",
     "output_type": "stream",
     "text": [
      "{'média': 60.0, 'situação final': 'AP'}\n"
     ]
    }
   ],
   "source": [
    "# Mostra o conteúdo do dicionário\n",
    "pp(aluno)\n"
   ]
  }
 ],
 "metadata": {
  "interpreter": {
   "hash": "d686fb4bba1cd81d322bac49812b464465e293b78591a47e52bedfb124e592be"
  },
  "kernelspec": {
   "display_name": "Python 3.10.2 64-bit",
   "language": "python",
   "name": "python3"
  },
  "language_info": {
   "codemirror_mode": {
    "name": "ipython",
    "version": 3
   },
   "file_extension": ".py",
   "mimetype": "text/x-python",
   "name": "python",
   "nbconvert_exporter": "python",
   "pygments_lexer": "ipython3",
   "version": "3.10.2"
  },
  "orig_nbformat": 4
 },
 "nbformat": 4,
 "nbformat_minor": 2
}
