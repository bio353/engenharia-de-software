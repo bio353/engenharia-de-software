{
 "cells": [
  {
   "cell_type": "markdown",
   "metadata": {},
   "source": [
    "# Capítulo 4 - numpy\n"
   ]
  },
  {
   "cell_type": "markdown",
   "metadata": {},
   "source": [
    "---\n"
   ]
  },
  {
   "cell_type": "markdown",
   "metadata": {},
   "source": [
    "### Exercícios Propostos 1\n"
   ]
  },
  {
   "cell_type": "markdown",
   "metadata": {},
   "source": [
    "##### 1. Crie um _array_ de tamanho 21 com valores linearmente espaçados entre 0 e 51.\n"
   ]
  },
  {
   "cell_type": "code",
   "execution_count": 1,
   "metadata": {},
   "outputs": [],
   "source": [
    "# Importar numpy\n",
    "import numpy as np\n"
   ]
  },
  {
   "cell_type": "code",
   "execution_count": 2,
   "metadata": {},
   "outputs": [
    {
     "name": "stdout",
     "output_type": "stream",
     "text": [
      "[0.   0.05 0.1  0.15 0.2  0.25 0.3  0.35 0.4  0.45 0.5  0.55 0.6  0.65\n",
      " 0.7  0.75 0.8  0.85 0.9  0.95 1.  ]\n"
     ]
    }
   ],
   "source": [
    "# Criar array de tamanho 21 com valores linearmente espaçados entre 0 e 1\n",
    "array = np.linspace(0, 1, 21)\n",
    "print(array)\n"
   ]
  },
  {
   "cell_type": "markdown",
   "metadata": {},
   "source": [
    "##### 2. Crie 2 _arrays_: um de números pares de 0 até 51 e outro também de números pares de 100 até 50. Em seguida, os concatene e mostre os resultados ordenados.\n"
   ]
  },
  {
   "cell_type": "code",
   "execution_count": 3,
   "metadata": {},
   "outputs": [
    {
     "name": "stdout",
     "output_type": "stream",
     "text": [
      "[ 0  2  4  6  8 10 12 14 16 18 20 22 24 26 28 30 32 34 36 38 40 42 44 46\n",
      " 48 50]\n",
      "[100  98  96  94  92  90  88  86  84  82  80  78  76  74  72  70  68  66\n",
      "  64  62  60  58  56  54  52]\n"
     ]
    }
   ],
   "source": [
    "# Criar 2 arrays, um de números pares de 0 a 51 e outro de números pares de 100 a 50\n",
    "array_1 = np.arange(0, 51, 2)\n",
    "array_2 = np.arange(100, 50, -2)\n",
    "print(array_1)\n",
    "print(array_2)\n"
   ]
  },
  {
   "cell_type": "code",
   "execution_count": 4,
   "metadata": {},
   "outputs": [
    {
     "name": "stdout",
     "output_type": "stream",
     "text": [
      "[  0   2   4   6   8  10  12  14  16  18  20  22  24  26  28  30  32  34\n",
      "  36  38  40  42  44  46  48  50 100  98  96  94  92  90  88  86  84  82\n",
      "  80  78  76  74  72  70  68  66  64  62  60  58  56  54  52]\n"
     ]
    }
   ],
   "source": [
    "# Concatenar os arrays e mostrar os resultados ordenados\n",
    "array_resultante = np.concatenate((array_1, array_2))\n",
    "print(array_resultante)\n"
   ]
  },
  {
   "cell_type": "markdown",
   "metadata": {},
   "source": [
    "##### 3. Ordene os resultados do array resultante da questão 2 em ordem decrescente.\n"
   ]
  },
  {
   "cell_type": "code",
   "execution_count": 5,
   "metadata": {},
   "outputs": [
    {
     "name": "stdout",
     "output_type": "stream",
     "text": [
      "[100  98  96  94  92  90  88  86  84  82  80  78  76  74  72  70  68  66\n",
      "  64  62  60  58  56  54  52  50  48  46  44  42  40  38  36  34  32  30\n",
      "  28  26  24  22  20  18  16  14  12  10   8   6   4   2   0]\n"
     ]
    }
   ],
   "source": [
    "# Ordenar o array resultante em ordem decrescente\n",
    "array_ordenado = np.sort(array_resultante)[::-1]\n",
    "print(array_ordenado)\n"
   ]
  },
  {
   "cell_type": "markdown",
   "metadata": {},
   "source": [
    "##### 4. Crie uma matriz formada somente por uns de tamanho 3x4. Em seguida, transforme-a em um _array_ unidimensional.\n"
   ]
  },
  {
   "cell_type": "code",
   "execution_count": 6,
   "metadata": {},
   "outputs": [
    {
     "name": "stdout",
     "output_type": "stream",
     "text": [
      "[[1. 1. 1. 1.]\n",
      " [1. 1. 1. 1.]\n",
      " [1. 1. 1. 1.]]\n"
     ]
    }
   ],
   "source": [
    "# Criar matriz de 1 de tamanho 3x4\n",
    "matriz = np.ones((3, 4))\n",
    "print(matriz)\n"
   ]
  },
  {
   "cell_type": "code",
   "execution_count": 7,
   "metadata": {},
   "outputs": [
    {
     "name": "stdout",
     "output_type": "stream",
     "text": [
      "[1. 1. 1. 1. 1. 1. 1. 1. 1. 1. 1. 1.]\n"
     ]
    }
   ],
   "source": [
    "# Transformar a matriz em um array unidimensional\n",
    "array_1d = matriz.flatten()\n",
    "print(array_1d)\n"
   ]
  },
  {
   "cell_type": "markdown",
   "metadata": {},
   "source": [
    "##### 5. Crie uma matriz de tamanho qualquer. Extraia seu número de linhas e colunas, multiplique-os, e diga se esta matriz poderia se tornar um vetor com número par ou ímpar de elementos.\n"
   ]
  },
  {
   "cell_type": "code",
   "execution_count": 8,
   "metadata": {},
   "outputs": [
    {
     "name": "stdout",
     "output_type": "stream",
     "text": [
      "[[0.86676418 0.00837937 0.833455   0.56475357 0.39657698 0.35328053\n",
      "  0.40554189 0.00836639]]\n"
     ]
    }
   ],
   "source": [
    "# Criar matriz de tamanho qualquer\n",
    "nova_matriz = np.random.rand(np.random.randint(1, 10),\n",
    "                             np.random.randint(1, 10))\n",
    "print(nova_matriz)\n"
   ]
  },
  {
   "cell_type": "code",
   "execution_count": 9,
   "metadata": {},
   "outputs": [
    {
     "name": "stdout",
     "output_type": "stream",
     "text": [
      "Número de Linhas = 1\n",
      "Número de Colunas = 8\n",
      "Linhas * Colunas = 8\n"
     ]
    }
   ],
   "source": [
    "# Extrair os números de linhas e de colunas da matriz e multiplicá-los\n",
    "num_linhas = nova_matriz.shape[0]\n",
    "num_colunas = nova_matriz.shape[1]\n",
    "print(\"Número de Linhas =\", num_linhas)\n",
    "print(\"Número de Colunas =\", num_colunas)\n",
    "print(\"Linhas * Colunas =\", num_linhas * num_colunas)\n"
   ]
  },
  {
   "cell_type": "code",
   "execution_count": 10,
   "metadata": {},
   "outputs": [
    {
     "name": "stdout",
     "output_type": "stream",
     "text": [
      "A matriz possui tamanho 8...\n",
      "Então, ela pode se tornar um vetor com número par de elementos!\n"
     ]
    }
   ],
   "source": [
    "# Dizer se a matriz poderia se tornar um vetor com número par ou ímpar de elementos\n",
    "tamanho = nova_matriz.size\n",
    "print(f\"A matriz possui tamanho {tamanho}...\")\n",
    "if tamanho % 2 == 0:\n",
    "    print(\"Então, ela pode se tornar um vetor com número par de elementos!\")\n",
    "else:\n",
    "    print(\"Então, ela pode se tornar um vetor com número ímpar de elementos!\")\n"
   ]
  },
  {
   "cell_type": "markdown",
   "metadata": {},
   "source": [
    "---\n"
   ]
  },
  {
   "cell_type": "markdown",
   "metadata": {},
   "source": [
    "### Exercícios Propostos 2\n"
   ]
  },
  {
   "cell_type": "markdown",
   "metadata": {},
   "source": [
    "##### 1. Crie um _array_ de `float` com 10 elementos positivos e negativos entre 0 e 1. Em seguida, multiplique seus valores por 100 e crie um novo vetor apenas com a parte inteira destes números. Use `seed(5)` antes.\n"
   ]
  },
  {
   "cell_type": "code",
   "execution_count": 11,
   "metadata": {},
   "outputs": [],
   "source": [
    "# seed(5)\n",
    "np.random.seed(5)\n"
   ]
  },
  {
   "cell_type": "code",
   "execution_count": 12,
   "metadata": {},
   "outputs": [
    {
     "name": "stdout",
     "output_type": "stream",
     "text": [
      "[-0.55601366  0.74146461 -0.58656169  0.83722182 -0.02317762  0.22348773\n",
      "  0.53181571  0.03683598 -0.406399   -0.62455754]\n"
     ]
    }
   ],
   "source": [
    "# Array de float com 10 elementos entre 0 e 1, positivos e negativos (entre -1 e 1)\n",
    "array_float = np.random.uniform(-1, 1, 10)\n",
    "print(array_float)\n"
   ]
  },
  {
   "cell_type": "code",
   "execution_count": 13,
   "metadata": {},
   "outputs": [
    {
     "name": "stdout",
     "output_type": "stream",
     "text": [
      "[-55.60136578  74.14646124 -58.65616893  83.72218159  -2.31776224\n",
      "  22.34877258  53.1815713    3.68359757 -40.63989968 -62.45575427]\n"
     ]
    }
   ],
   "source": [
    "# Array multiplicado por 100\n",
    "array_float_x100 = array_float * 100\n",
    "print(array_float_x100)\n"
   ]
  },
  {
   "cell_type": "code",
   "execution_count": 14,
   "metadata": {},
   "outputs": [
    {
     "name": "stdout",
     "output_type": "stream",
     "text": [
      "[-55  74 -58  83  -2  22  53   3 -40 -62]\n"
     ]
    }
   ],
   "source": [
    "# Novo array apenas com a parte inteira\n",
    "array_int = (array_float_x100).astype(int)\n",
    "print(array_int)"
   ]
  },
  {
   "cell_type": "markdown",
   "metadata": {},
   "source": [
    "##### 2. Crie uma matriz de tamanho 4x4 formada por números aleatórios inteiros entre 1 e 50. Use `seed(10)` antes.\n"
   ]
  },
  {
   "cell_type": "code",
   "execution_count": 15,
   "metadata": {},
   "outputs": [],
   "source": [
    "# seed(10)\n",
    "np.random.seed(10)\n"
   ]
  },
  {
   "cell_type": "code",
   "execution_count": 16,
   "metadata": {},
   "outputs": [
    {
     "name": "stdout",
     "output_type": "stream",
     "text": [
      "[[10 37 16  1]\n",
      " [29 26 30 49]\n",
      " [30  9 10  1]\n",
      " [43 41 37 17]]\n"
     ]
    }
   ],
   "source": [
    "# Matriz 4x4 com inteiros entre 1 e 50\n",
    "matriz_int = np.random.randint(1, 50, (4, 4))\n",
    "print(matriz_int)"
   ]
  },
  {
   "cell_type": "markdown",
   "metadata": {},
   "source": [
    "##### 3. Mostre o resultado da média de cada linha e cada coluna da matriz gerada pela questão 2 e, em seguida, apresente o maior valor das médias para as linhas e também para as colunas.\n"
   ]
  },
  {
   "cell_type": "code",
   "execution_count": 17,
   "metadata": {},
   "outputs": [
    {
     "name": "stdout",
     "output_type": "stream",
     "text": [
      "Média das Linhas = [16.  33.5 12.5 34.5]\n",
      "Média das Colunas = [28.   28.25 23.25 17.  ]\n",
      "Maior Média das Linhas = 34.5\n",
      "Maior Média das Colunas = 28.25\n"
     ]
    }
   ],
   "source": [
    "# Média de cada linha e de cada coluna e a maior média de cada\n",
    "media_linhas = matriz_int.mean(axis=1)\n",
    "media_colunas = matriz_int.mean(axis=0)\n",
    "print(\"Média das Linhas =\", media_linhas)\n",
    "print(\"Média das Colunas =\", media_colunas)\n",
    "print(\"Maior Média das Linhas =\", media_linhas.max())\n",
    "print(\"Maior Média das Colunas =\", media_colunas.max())\n"
   ]
  },
  {
   "cell_type": "markdown",
   "metadata": {},
   "source": [
    "##### 4. Baseado na matriz gerada na questão 2, mostre a quantidade de aparições de cada um dos números na mesma. EM seguida, mostre apenas os números que aparecem 2 vezes.\n"
   ]
  },
  {
   "cell_type": "code",
   "execution_count": 18,
   "metadata": {},
   "outputs": [
    {
     "name": "stdout",
     "output_type": "stream",
     "text": [
      "(array([ 1,  9, 10, 16, 17, 26, 29, 30, 37, 41, 43, 49]), array([2, 1, 2, 1, 1, 1, 1, 2, 2, 1, 1, 1], dtype=int64))\n"
     ]
    }
   ],
   "source": [
    "# Quantidade de aparições de cada número na 'matriz_int'\n",
    "aparicoes, quantidade = np.unique(matriz_int, return_counts=True)\n",
    "print((aparicoes, quantidade))\n"
   ]
  },
  {
   "cell_type": "code",
   "execution_count": 19,
   "metadata": {},
   "outputs": [
    {
     "name": "stdout",
     "output_type": "stream",
     "text": [
      "[ 1 10 30 37]\n"
     ]
    }
   ],
   "source": [
    "# Números que aparecem duas vezes\n",
    "print(aparicoes[quantidade == 2])\n"
   ]
  },
  {
   "cell_type": "markdown",
   "metadata": {},
   "source": [
    "---\n"
   ]
  },
  {
   "cell_type": "markdown",
   "metadata": {},
   "source": [
    "### Exercícios Propostos 3\n"
   ]
  },
  {
   "cell_type": "markdown",
   "metadata": {},
   "source": [
    "##### 1. Apresente a porcentagem das missões que deram certo.\n"
   ]
  },
  {
   "cell_type": "code",
   "execution_count": 20,
   "metadata": {},
   "outputs": [],
   "source": [
    "# Importar dataset\n",
    "dataset = np.loadtxt('data/space.csv', delimiter=';',\n",
    "                     dtype=str, encoding='utf-8', skiprows=1)\n"
   ]
  },
  {
   "cell_type": "code",
   "execution_count": 21,
   "metadata": {},
   "outputs": [],
   "source": [
    "# Definir as colunas\n",
    "all_companies = dataset[:, 1]\n",
    "all_locations = dataset[:, 2]\n",
    "all_costs = dataset[:, 6].astype(float)\n",
    "all_statuses = dataset[:, 7]\n"
   ]
  },
  {
   "cell_type": "code",
   "execution_count": 22,
   "metadata": {},
   "outputs": [
    {
     "name": "stdout",
     "output_type": "stream",
     "text": [
      "89.70860314523588\n"
     ]
    }
   ],
   "source": [
    "# Porcentagem das missões que deram certo\n",
    "successes = len(all_statuses[all_statuses == 'Success'])\n",
    "percentage = successes / len(all_statuses) * 100\n",
    "print(percentage)\n"
   ]
  },
  {
   "cell_type": "markdown",
   "metadata": {},
   "source": [
    "##### 2. Qual a média de gastos de uma missão espacial se baseando em missões que possuam `valores disponíveis > 0`?\n"
   ]
  },
  {
   "cell_type": "code",
   "execution_count": 23,
   "metadata": {},
   "outputs": [
    {
     "name": "stdout",
     "output_type": "stream",
     "text": [
      "153.7921991701245\n"
     ]
    }
   ],
   "source": [
    "# Média de gastos de missões, onde o gasto > 0\n",
    "positive_cost = all_costs[all_costs > 0]\n",
    "average_cost = np.mean(positive_cost)\n",
    "print(average_cost)"
   ]
  },
  {
   "cell_type": "markdown",
   "metadata": {},
   "source": [
    "##### 3. Encontre quantas missões espaciais neste _dataset_ foram realizadas pelos EUA.\n"
   ]
  },
  {
   "cell_type": "code",
   "execution_count": 24,
   "metadata": {},
   "outputs": [
    {
     "name": "stdout",
     "output_type": "stream",
     "text": [
      "1344\n"
     ]
    }
   ],
   "source": [
    "# Quantidade de missões feitas pelos USA\n",
    "usa_missions = all_locations[np.char.find(all_locations, 'USA') != -1]\n",
    "print(len(usa_missions))\n"
   ]
  },
  {
   "cell_type": "markdown",
   "metadata": {},
   "source": [
    "##### 4. Encontre qual foi a missão mais cara realizada pela empresa \"SpaceX\".\n"
   ]
  },
  {
   "cell_type": "code",
   "execution_count": 25,
   "metadata": {},
   "outputs": [
    {
     "name": "stdout",
     "output_type": "stream",
     "text": [
      "90.0\n"
     ]
    }
   ],
   "source": [
    "# Maior gasto (missão mais cara) da SpaceX\n",
    "spacex_missions = dataset[np.char.find(all_companies, 'SpaceX') != -1]\n",
    "spacex_expenses = spacex_missions[:, 6].astype(float)\n",
    "most_expensive = spacex_missions[np.argmax(spacex_expenses)]\n",
    "print(most_expensive[6].astype(float))\n"
   ]
  },
  {
   "cell_type": "markdown",
   "metadata": {},
   "source": [
    "##### 5. Mostre o nome das empresas que já realizaram missões espaciais juntamente com suas respectivas quantidades de missões. Use o `for` no final para mostrar as informações.\n"
   ]
  },
  {
   "cell_type": "code",
   "execution_count": 26,
   "metadata": {},
   "outputs": [
    {
     "name": "stdout",
     "output_type": "stream",
     "text": [
      "AEB 3\n",
      "AMBA 8\n",
      "ASI 9\n",
      "Arianespace 279\n",
      "Arm??e de l'Air 4\n",
      "Blue Origin 12\n",
      "Boeing 136\n",
      "CASC 251\n",
      "CASIC 5\n",
      "CECLES 4\n",
      "CNES 8\n",
      "Douglas 1\n",
      "EER 1\n",
      "ESA 13\n",
      "Eurockot 13\n",
      "ExPace 10\n",
      "Exos 4\n",
      "General Dynamics 251\n",
      "IAI 11\n",
      "ILS 46\n",
      "IRGC 1\n",
      "ISA 13\n",
      "ISAS 30\n",
      "ISRO 76\n",
      "JAXA 7\n",
      "KARI 3\n",
      "KCST 5\n",
      "Khrunichev 1\n",
      "Kosmotras 22\n",
      "Land Launch 7\n",
      "Landspace 1\n",
      "Lockheed 79\n",
      "MHI 84\n",
      "MITT 7\n",
      "Martin Marietta 114\n",
      "NASA 203\n",
      "Northrop 83\n",
      "OKB-586 2\n",
      "OneSpace 1\n",
      "RAE 2\n",
      "RVSN USSR 1777\n",
      "Rocket Lab 13\n",
      "Roscosmos 55\n",
      "SRC 3\n",
      "Sandia 1\n",
      "Sea Launch 36\n",
      "SpaceX 100\n",
      "Starsem 1\n",
      "ULA 140\n",
      "US Air Force 161\n",
      "US Navy 17\n",
      "UT 5\n",
      "VKS RF 201\n",
      "Virgin Orbit 1\n",
      "Yuzhmash 2\n",
      "i-Space 1\n"
     ]
    }
   ],
   "source": [
    "# Configura\n",
    "company_names, num_missions = np.unique(all_companies, return_counts=True)\n",
    "for company_name, missions in zip(company_names, num_missions):\n",
    "    print(company_name, missions)\n"
   ]
  }
 ],
 "metadata": {
  "interpreter": {
   "hash": "d686fb4bba1cd81d322bac49812b464465e293b78591a47e52bedfb124e592be"
  },
  "kernelspec": {
   "display_name": "Python 3.10.2 64-bit",
   "language": "python",
   "name": "python3"
  },
  "language_info": {
   "codemirror_mode": {
    "name": "ipython",
    "version": 3
   },
   "file_extension": ".py",
   "mimetype": "text/x-python",
   "name": "python",
   "nbconvert_exporter": "python",
   "pygments_lexer": "ipython3",
   "version": "3.10.2"
  },
  "orig_nbformat": 4
 },
 "nbformat": 4,
 "nbformat_minor": 2
}
